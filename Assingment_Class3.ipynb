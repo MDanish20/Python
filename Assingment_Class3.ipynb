{
  "nbformat": 4,
  "nbformat_minor": 0,
  "metadata": {
    "colab": {
      "provenance": []
    },
    "kernelspec": {
      "name": "python3",
      "display_name": "Python 3"
    },
    "language_info": {
      "name": "python"
    }
  },
  "cells": [
    {
      "cell_type": "markdown",
      "source": [
        "**Assignment 1: String Concatenation and Formatting**\n",
        "\n",
        "**Instructions:**\n",
        "\n",
        "1. Create a variable `name` and assign your name to it.\n",
        "2. Create a variable `age` and assign your age to it.\n",
        "3. Create a variable `country` and assign your country of residence to it.\n",
        "4. Using the `+` operator, concatenate the variables to form a sentence in the following format: \"My name is `<name>`, I am `<age>` years old, and I live in `<country>`.\"\n",
        "5. Print the concatenated sentence.\n",
        "\n"
      ],
      "metadata": {
        "id": "9MiQVUkUsR9m"
      }
    },
    {
      "cell_type": "code",
      "source": [
        "name=\"MDSQ\"\n",
        "age=36\n",
        "country=\"Pakistan\"\n",
        "\n",
        "data=\"Name: \"+ name + \" Age: \"+str(age)+\" Country: \"+ country\n",
        "\n",
        "print(data)\n"
      ],
      "metadata": {
        "id": "L_cIeEpOsWFa",
        "colab": {
          "base_uri": "https://localhost:8080/"
        },
        "outputId": "a7e77695-9129-4857-abee-648fba9b426e"
      },
      "execution_count": null,
      "outputs": [
        {
          "output_type": "stream",
          "name": "stdout",
          "text": [
            "Name: MDSQ Age: 36 Country: Pakistan\n"
          ]
        }
      ]
    },
    {
      "cell_type": "code",
      "source": [
        "name=\"MDSQ\"\n",
        "age=36\n",
        "country=\"Pakistan\"\n",
        "\n",
        "data=\"My Name \"+ name + \" ,I am \"+str(age)+\" year old, I live in \"+ country+\".\"\n",
        "\n",
        "print(data)\n"
      ],
      "metadata": {
        "colab": {
          "base_uri": "https://localhost:8080/"
        },
        "id": "7lQXsNcl905g",
        "outputId": "092a0c61-a896-4cf3-e61a-06b1c5590d3c"
      },
      "execution_count": null,
      "outputs": [
        {
          "output_type": "stream",
          "name": "stdout",
          "text": [
            "My Name MDSQ ,I am 36 year old, I live in Pakistan.\n"
          ]
        }
      ]
    },
    {
      "cell_type": "markdown",
      "source": [
        "\n",
        "**Assignment 2: String Formatting using `.format()`\n",
        "\n",
        "**Instructions:**\n",
        "\n",
        "1. Create a variable `item` and assign a product name to it (e.g., \"laptop\", \"book\", \"phone\").\n",
        "2. Create a variable `price` and assign a price to the item.\n",
        "3. Create a variable `quantity` and assign a quantity value.\n",
        "4. Calculate the total cost using the formula: `total_cost = price * quantity`.\n",
        "5. Using the `.format()` method, create a formatted string: \"I bought `<quantity>` `<item>`(s) at `<price>` each, for a total of $`<total_cost>`.\"\n",
        "6. Print the formatted string.\n"
      ],
      "metadata": {
        "id": "0D_k0s_x_HIz"
      }
    },
    {
      "cell_type": "code",
      "source": [
        "item= \"laptop\"\n",
        "price= 20000\n",
        "quantity=50\n",
        "\n",
        "total_cost=\"Total Cost : \" + str ( price*quantity )\n",
        "\n",
        "print(total_cost)"
      ],
      "metadata": {
        "colab": {
          "base_uri": "https://localhost:8080/"
        },
        "id": "biP8vy9DDUer",
        "outputId": "f553a7ea-fafe-4804-f121-b50aa073c65a"
      },
      "execution_count": null,
      "outputs": [
        {
          "output_type": "stream",
          "name": "stdout",
          "text": [
            "Total Cost : 1000000\n"
          ]
        }
      ]
    },
    {
      "cell_type": "code",
      "source": [
        "item = \"laptop\"\n",
        "price = 20000\n",
        "quantity = 50\n",
        "\n",
        "total_cost = \"Total Cost: {:,d}/=\".format(price * quantity) # Using :,d simply adds commas to make the number more readable, but it is not required.\n",
        "\n",
        "print(total_cost)\n"
      ],
      "metadata": {
        "colab": {
          "base_uri": "https://localhost:8080/"
        },
        "id": "bOwX6z9oJvdv",
        "outputId": "f2d34638-0feb-482a-a57d-cf153352ac65"
      },
      "execution_count": null,
      "outputs": [
        {
          "output_type": "stream",
          "name": "stdout",
          "text": [
            "Total Cost: 1,000,000/=\n"
          ]
        }
      ]
    },
    {
      "cell_type": "code",
      "source": [
        "plot=int(input(\"Plot area: \"))\n",
        "price=int(input(\"Plot price: \"))\n",
        "\n",
        "total_plot_price=\"Total Plot Price: {:,d}/=\".format(plot*price)\n",
        "\n",
        "print(total_plot_price)"
      ],
      "metadata": {
        "colab": {
          "base_uri": "https://localhost:8080/"
        },
        "id": "kw1ykz5vKkbu",
        "outputId": "c2b4fe4e-1d59-4382-b1b4-fa8e500b5c8c"
      },
      "execution_count": null,
      "outputs": [
        {
          "output_type": "stream",
          "name": "stdout",
          "text": [
            "Plot area: 120\n",
            "Plot price: 10000\n",
            "Total Plot Price: 1,200,000/=\n"
          ]
        }
      ]
    },
    {
      "cell_type": "markdown",
      "source": [
        "**Assignment 3: String Interpolation using `f''`\n",
        "\n",
        "**Instructions:**\n",
        "\n",
        "1. Create a variable `city` and assign the name of a city.\n",
        "2. Create a variable `temperature` and assign a temperature value in Celsius.\n",
        "3. Using `f''` string interpolation, create a string: \"The temperature in `<city>` is `<temperature>`°C.\"\n",
        "4. Print the interpolated string.\n"
      ],
      "metadata": {
        "id": "r13qabReO0wf"
      }
    },
    {
      "cell_type": "code",
      "source": [
        "# Step 1: Assign values to variables\n",
        "city = \"Karachi\"\n",
        "temperature = 29\n",
        "\n",
        "# Step 2: Create an interpolated string using f'' string interpolation\n",
        "weather_update = f\"The temperature in {city} is {temperature}°C.\"\n",
        "\n",
        "# Step 3: Print the interpolated string\n",
        "print(weather_update)\n"
      ],
      "metadata": {
        "colab": {
          "base_uri": "https://localhost:8080/"
        },
        "id": "JtHUF1u9O3Cb",
        "outputId": "f14f9765-37f6-44ec-9718-88a913f604c8"
      },
      "execution_count": null,
      "outputs": [
        {
          "output_type": "stream",
          "name": "stdout",
          "text": [
            "The temperature in Karachi is 29°C.\n"
          ]
        }
      ]
    },
    {
      "cell_type": "markdown",
      "source": [
        "**Assignment 4: String Formatting using `%()`\n",
        "\n",
        "**Instructions:**\n",
        "\n",
        "1. Create a variable `first_name` and assign your first name to it.\n",
        "2. Create a variable `last_name` and assign your last name to it.\n",
        "3. Create a variable `birth_year` and assign your birth year.\n",
        "4. Calculate your age using the formula: `age = current_year - birth_year`, where `current_year` is the current year.\n",
        "5. Using `%()` string formatting, create a string: \"My name is %(first_name)s %(last_name)s. I am %(age)d years old.\"\n",
        "6. Print the formatted string."
      ],
      "metadata": {
        "id": "A2Ms_NMGRB6p"
      }
    },
    {
      "cell_type": "code",
      "source": [
        "first_name=\"Muhammad\"\n",
        "last_name=\"Danish\"\n",
        "birth_year=1986\n",
        "\n",
        "age= 2023-birth_year\n",
        "\n",
        "data=f\"My name is {first_name} {last_name}. I am {age} years old\"\n",
        "\n",
        "print(data)"
      ],
      "metadata": {
        "colab": {
          "base_uri": "https://localhost:8080/"
        },
        "id": "iL1E-CYQRJY7",
        "outputId": "8cb6ebeb-fe1e-44e8-ff3a-58c470888ef3"
      },
      "execution_count": null,
      "outputs": [
        {
          "output_type": "stream",
          "name": "stdout",
          "text": [
            "My name is Muhammad Danish. I am 37 years old\n"
          ]
        }
      ]
    },
    {
      "cell_type": "markdown",
      "source": [
        "**Assignment 5: Combining Formatting Methods**\n",
        "\n",
        "**Instructions:**\n",
        "\n",
        "1. Create a variable `product` and assign a product name.\n",
        "2. Create a variable `discount` and assign a discount percentage.\n",
        "3. Create a variable `original_price` and assign an original price.\n",
        "4. Calculate the discounted price using the formula: `discounted_price = original_price * (1 - discount / 100)`.\n",
        "5. Using any combination of string formatting methods (`+`, `.format()`, `f''`, `%()`), create a descriptive string with the product name, original price, discount percentage, and discounted price.\n",
        "6. Print the descriptive string."
      ],
      "metadata": {
        "id": "Yn3vcklwVkJi"
      }
    },
    {
      "cell_type": "code",
      "source": [
        "# Given variables\n",
        "product = \"plot\"          # Create a variable and assign the product name\n",
        "discount = 20             # Create a variable and assign the discount percentage\n",
        "original_price = 2000000  # Create a variable and assign the original price\n",
        "\n",
        "# Calculate the discounted price\n",
        "discounted_price = original_price * (1 - discount / 100)\n",
        "\n",
        "# Create a descriptive string using string formatting\n",
        "descriptive_string = \"Product: {}\\nOriginal Price: {}\\nDiscount Percentage: {}%\\nDiscounted Price: {}\".format(product, original_price, discount, discounted_price)\n",
        "\n",
        "# Print the descriptive string\n",
        "print(descriptive_string)\n"
      ],
      "metadata": {
        "colab": {
          "base_uri": "https://localhost:8080/"
        },
        "id": "1JLFmxiEvCTD",
        "outputId": "91f57c41-3f6f-43e8-bd2d-78696042c7b5"
      },
      "execution_count": null,
      "outputs": [
        {
          "output_type": "stream",
          "name": "stdout",
          "text": [
            "Product: plot\n",
            "Original Price: 2000000\n",
            "Discount Percentage: 20%\n",
            "Discounted Price: 1600000.0\n"
          ]
        }
      ]
    },
    {
      "cell_type": "code",
      "source": [
        "product = \"Laptop\"          # Create a variable and assign the product name\n",
        "discount = 15.5             # Create a variable and assign the discount percentage\n",
        "original_price = 2000000  # Create a variable and assign the original price\n",
        "\n",
        "# Calculate the discounted price\n",
        "discounted_price = original_price * (1 - discount / 100)\n",
        "\n",
        "# Create a descriptive string using string formatting\n",
        "descriptive_string = \"Product: {}\\nOriginal Price: {}\\nDiscount Percentage: {}%\\nDiscounted Price: {}\".format(product, original_price, discount, discounted_price)\n",
        "\n",
        "# Print the descriptive string\n",
        "print(descriptive_string)"
      ],
      "metadata": {
        "colab": {
          "base_uri": "https://localhost:8080/"
        },
        "id": "V3NBwgqCxWAz",
        "outputId": "83cdd8ca-0535-453d-8ace-99b822ed2e23"
      },
      "execution_count": null,
      "outputs": [
        {
          "output_type": "stream",
          "name": "stdout",
          "text": [
            "Product: Laptop\n",
            "Original Price: 2000000\n",
            "Discount Percentage: 15.5%\n",
            "Discounted Price: 1690000.0\n"
          ]
        }
      ]
    }
  ]
}