{
  "nbformat": 4,
  "nbformat_minor": 0,
  "metadata": {
    "colab": {
      "provenance": [],
      "toc_visible": true
    },
    "kernelspec": {
      "name": "python3",
      "display_name": "Python 3"
    },
    "language_info": {
      "name": "python"
    }
  },
  "cells": [
    {
      "cell_type": "markdown",
      "source": [
        "**Assignment 1: String Concatenation and Formatting**\n",
        "\n",
        "**Instructions:**\n",
        "\n",
        "1. Create a variable `name` and assign your name to it.\n",
        "2. Create a variable `age` and assign your age to it.\n",
        "3. Create a variable `country` and assign your country of residence to it.\n",
        "4. Using the `+` operator, concatenate the variables to form a sentence in the following format: \"My name is `<name>`, I am `<age>` years old, and I live in `<country>`.\"\n",
        "5. Print the concatenated sentence.\n",
        "\n"
      ],
      "metadata": {
        "id": "9MiQVUkUsR9m"
      }
    },
    {
      "cell_type": "code",
      "source": [
        "name=\"MDSQ\"\n",
        "age=36\n",
        "country=\"Pakistan\"\n",
        "\n",
        "data=\"Name: \"+ name + \" Age: \"+str(age)+\" Country: \"+ country\n",
        "\n",
        "print(data)\n"
      ],
      "metadata": {
        "id": "L_cIeEpOsWFa",
        "colab": {
          "base_uri": "https://localhost:8080/"
        },
        "outputId": "a7e77695-9129-4857-abee-648fba9b426e"
      },
      "execution_count": 9,
      "outputs": [
        {
          "output_type": "stream",
          "name": "stdout",
          "text": [
            "Name: MDSQ Age: 36 Country: Pakistan\n"
          ]
        }
      ]
    },
    {
      "cell_type": "code",
      "source": [
        "name=\"MDSQ\"\n",
        "age=36\n",
        "country=\"Pakistan\"\n",
        "\n",
        "data=\"My Name \"+ name + \" ,I am \"+str(age)+\" year old, I live in \"+ country+\".\"\n",
        "\n",
        "print(data)\n"
      ],
      "metadata": {
        "colab": {
          "base_uri": "https://localhost:8080/"
        },
        "id": "7lQXsNcl905g",
        "outputId": "092a0c61-a896-4cf3-e61a-06b1c5590d3c"
      },
      "execution_count": 13,
      "outputs": [
        {
          "output_type": "stream",
          "name": "stdout",
          "text": [
            "My Name MDSQ ,I am 36 year old, I live in Pakistan.\n"
          ]
        }
      ]
    },
    {
      "cell_type": "markdown",
      "source": [
        "\n",
        "**Assignment 2: String Formatting using `.format()`\n",
        "\n",
        "**Instructions:**\n",
        "\n",
        "1. Create a variable `item` and assign a product name to it (e.g., \"laptop\", \"book\", \"phone\").\n",
        "2. Create a variable `price` and assign a price to the item.\n",
        "3. Create a variable `quantity` and assign a quantity value.\n",
        "4. Calculate the total cost using the formula: `total_cost = price * quantity`.\n",
        "5. Using the `.format()` method, create a formatted string: \"I bought `<quantity>` `<item>`(s) at `<price>` each, for a total of $`<total_cost>`.\"\n",
        "6. Print the formatted string.\n"
      ],
      "metadata": {
        "id": "0D_k0s_x_HIz"
      }
    },
    {
      "cell_type": "code",
      "source": [
        "item= \"laptop\"\n",
        "price= 20000\n",
        "quantity=50\n",
        "\n",
        "total_cost=\"Total Cost : \" + str ( price*quantity )\n",
        "\n",
        "print(total_cost)"
      ],
      "metadata": {
        "colab": {
          "base_uri": "https://localhost:8080/"
        },
        "id": "biP8vy9DDUer",
        "outputId": "f553a7ea-fafe-4804-f121-b50aa073c65a"
      },
      "execution_count": 24,
      "outputs": [
        {
          "output_type": "stream",
          "name": "stdout",
          "text": [
            "Total Cost : 1000000\n"
          ]
        }
      ]
    },
    {
      "cell_type": "code",
      "source": [
        "item = \"laptop\"\n",
        "price = 20000\n",
        "quantity = 50\n",
        "\n",
        "total_cost = \"Total Cost: {:,d}/=\".format(price * quantity) # Using :,d simply adds commas to make the number more readable, but it is not required.\n",
        "\n",
        "print(total_cost)\n"
      ],
      "metadata": {
        "colab": {
          "base_uri": "https://localhost:8080/"
        },
        "id": "bOwX6z9oJvdv",
        "outputId": "f2d34638-0feb-482a-a57d-cf153352ac65"
      },
      "execution_count": 26,
      "outputs": [
        {
          "output_type": "stream",
          "name": "stdout",
          "text": [
            "Total Cost: 1,000,000/=\n"
          ]
        }
      ]
    },
    {
      "cell_type": "code",
      "source": [
        "plot=int(input(\"Plot area: \"))\n",
        "price=int(input(\"Plot price: \"))\n",
        "\n",
        "total_plot_price=\"Total Plot Price: {:,d}/=\".format(plot*price)\n",
        "\n",
        "print(total_plot_price)"
      ],
      "metadata": {
        "colab": {
          "base_uri": "https://localhost:8080/"
        },
        "id": "kw1ykz5vKkbu",
        "outputId": "c2b4fe4e-1d59-4382-b1b4-fa8e500b5c8c"
      },
      "execution_count": 34,
      "outputs": [
        {
          "output_type": "stream",
          "name": "stdout",
          "text": [
            "Plot area: 120\n",
            "Plot price: 10000\n",
            "Total Plot Price: 1,200,000/=\n"
          ]
        }
      ]
    },
    {
      "cell_type": "markdown",
      "source": [
        "**Assignment 3: String Interpolation using `f''`\n",
        "\n",
        "**Instructions:**\n",
        "\n",
        "1. Create a variable `city` and assign the name of a city.\n",
        "2. Create a variable `temperature` and assign a temperature value in Celsius.\n",
        "3. Using `f''` string interpolation, create a string: \"The temperature in `<city>` is `<temperature>`°C.\"\n",
        "4. Print the interpolated string.\n"
      ],
      "metadata": {
        "id": "r13qabReO0wf"
      }
    },
    {
      "cell_type": "code",
      "source": [],
      "metadata": {
        "id": "JtHUF1u9O3Cb"
      },
      "execution_count": null,
      "outputs": []
    }
  ]
}